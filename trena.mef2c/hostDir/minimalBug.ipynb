{
 "cells": [
  {
   "cell_type": "code",
   "execution_count": 1,
   "metadata": {},
   "outputs": [
    {
     "data": {
      "application/vnd.jupyter.widget-view+json": {
       "model_id": "c14efa2fcaec4a83a124617449b06444",
       "version_major": 2,
       "version_minor": 0
      },
      "text/html": [
       "<p>Failed to display Jupyter Widget of type <code>ipyTrenaViz</code>.</p>\n",
       "<p>\n",
       "  If you're reading this message in the Jupyter Notebook or JupyterLab Notebook, it may mean\n",
       "  that the widgets JavaScript is still loading. If this message persists, it\n",
       "  likely means that the widgets JavaScript library is either not installed or\n",
       "  not enabled. See the <a href=\"https://ipywidgets.readthedocs.io/en/stable/user_install.html\">Jupyter\n",
       "  Widgets Documentation</a> for setup instructions.\n",
       "</p>\n",
       "<p>\n",
       "  If you're reading this message in another frontend (for example, a static\n",
       "  rendering on GitHub or <a href=\"https://nbviewer.jupyter.org/\">NBViewer</a>),\n",
       "  it may mean that your frontend doesn't currently support widgets.\n",
       "</p>\n"
      ],
      "text/plain": [
       "ipyTrenaViz()"
      ]
     },
     "metadata": {},
     "output_type": "display_data"
    }
   ],
   "source": [
    "import sys, time\n",
    "sys.path.append(\"..\")\n",
    "from hub.Trena import *\n",
    "trena = Trena('hg38')"
   ]
  },
  {
   "cell_type": "code",
   "execution_count": 30,
   "metadata": {},
   "outputs": [],
   "source": [
    "left_loc  = 'chr17:50,201,610-50,201,700' # 'chr17:50,201,610-50,201,700'\n",
    "right_loc = 'chr17:50,201,720-50,202,700' #'chr17:50,201,720-50,202,700'\n",
    "targetGene = \"COL1A1\""
   ]
  },
  {
   "cell_type": "code",
   "execution_count": 31,
   "metadata": {},
   "outputs": [],
   "source": [
    "trena.showGenomicRegion(left_loc)"
   ]
  },
  {
   "cell_type": "code",
   "execution_count": 32,
   "metadata": {
    "scrolled": true
   },
   "outputs": [
    {
     "name": "stdout",
     "output_type": "stream",
     "text": [
      "gfir 1\n",
      "current working directory: /home/jovyan/trenaViz/hostDir\n",
      "gfir 2\n",
      "gfir 3\n",
      "gfir 4\n",
      "gfir 5\n",
      "gfir 6\n",
      "gfir 7\n",
      "gfir 8\n",
      "about to call self.tv.addBedTrackFromDataFrame\n",
      "gfir 9\n"
     ]
    }
   ],
   "source": [
    "fp_left = trena.getFootprintsInRegion(display=True)"
   ]
  },
  {
   "cell_type": "code",
   "execution_count": 33,
   "metadata": {},
   "outputs": [],
   "source": [
    "fp_left.to_csv(\"fpLeft.tsv\", sep=\"\\t\", index=False)"
   ]
  },
  {
   "cell_type": "code",
   "execution_count": 37,
   "metadata": {},
   "outputs": [],
   "source": [
    "model_left = trena.createGeneModel(\"COL1A1\", [\"lasso\", \"pearson\", \"randomForest\", \"ridge\", \"spearman\"], \n",
    "                                   fp_left, \"MotifDb\", \"protectedAndExposed\")"
   ]
  },
  {
   "cell_type": "code",
   "execution_count": 38,
   "metadata": {
    "scrolled": true
   },
   "outputs": [
    {
     "name": "stdout",
     "output_type": "stream",
     "text": [
      "    gene  betaLasso  pearsonCoeff   rfScore  betaRidge  spearmanCoeff  \\\n",
      "2  NR2F1     0.9847        0.3584  282.0862     0.7843         0.3493   \n",
      "3  PPARG    -0.0352        0.1417  216.4098    -0.0106         0.1369   \n",
      "1  CENPB     0.4079        0.0966  215.2162     0.3974         0.0709   \n",
      "\n",
      "   concordance  pcaMax  bindingSites  \n",
      "2       0.4293  1.3545             1  \n",
      "3       0.1917  0.3267             1  \n",
      "1       0.1883  0.3180             1  \n"
     ]
    }
   ],
   "source": [
    "print(model_left)\n",
    "model_left.to_csv(\"modelLeft.tsv\", sep=\"\\t\", index=False)"
   ]
  },
  {
   "cell_type": "code",
   "execution_count": 34,
   "metadata": {},
   "outputs": [],
   "source": [
    "trena.showGenomicRegion(right_loc)"
   ]
  },
  {
   "cell_type": "code",
   "execution_count": 35,
   "metadata": {},
   "outputs": [
    {
     "name": "stdout",
     "output_type": "stream",
     "text": [
      "gfir 1\n",
      "current working directory: /home/jovyan/trenaViz/hostDir\n",
      "gfir 2\n",
      "gfir 3\n",
      "gfir 4\n",
      "gfir 5\n",
      "gfir 6\n",
      "gfir 7\n",
      "gfir 8\n",
      "about to call self.tv.addBedTrackFromDataFrame\n",
      "gfir 9\n"
     ]
    }
   ],
   "source": [
    "fp_right = trena.getFootprintsInRegion(display=True)\n",
    "model_right = trena.createGeneModel(\"COL1A1\", [\"lasso\", \"pearson\", \"randomForest\", \"ridge\", \"spearman\"], \n",
    "                                    fp_right, \"MotifDb\", \"protectedAndExposed\")"
   ]
  },
  {
   "cell_type": "code",
   "execution_count": 39,
   "metadata": {},
   "outputs": [
    {
     "data": {
      "text/html": [
       "<div>\n",
       "<table border=\"1\" class=\"dataframe\">\n",
       "  <thead>\n",
       "    <tr style=\"text-align: right;\">\n",
       "      <th></th>\n",
       "      <th>gene</th>\n",
       "      <th>betaLasso</th>\n",
       "      <th>pearsonCoeff</th>\n",
       "      <th>rfScore</th>\n",
       "      <th>betaRidge</th>\n",
       "      <th>spearmanCoeff</th>\n",
       "      <th>concordance</th>\n",
       "      <th>pcaMax</th>\n",
       "      <th>bindingSites</th>\n",
       "    </tr>\n",
       "  </thead>\n",
       "  <tbody>\n",
       "    <tr>\n",
       "      <th>7</th>\n",
       "      <td>SP4</td>\n",
       "      <td>-1.0539</td>\n",
       "      <td>-0.1943</td>\n",
       "      <td>124.1428</td>\n",
       "      <td>-0.8021</td>\n",
       "      <td>-0.1845</td>\n",
       "      <td>0.4376</td>\n",
       "      <td>2.4050</td>\n",
       "      <td>1</td>\n",
       "    </tr>\n",
       "    <tr>\n",
       "      <th>6</th>\n",
       "      <td>PPARG</td>\n",
       "      <td>0.2024</td>\n",
       "      <td>0.1417</td>\n",
       "      <td>96.7821</td>\n",
       "      <td>0.1683</td>\n",
       "      <td>0.1369</td>\n",
       "      <td>0.2515</td>\n",
       "      <td>0.4600</td>\n",
       "      <td>1</td>\n",
       "    </tr>\n",
       "    <tr>\n",
       "      <th>4</th>\n",
       "      <td>NFYA</td>\n",
       "      <td>0.3480</td>\n",
       "      <td>0.0524</td>\n",
       "      <td>95.6285</td>\n",
       "      <td>0.2841</td>\n",
       "      <td>0.0702</td>\n",
       "      <td>0.2478</td>\n",
       "      <td>0.4248</td>\n",
       "      <td>1</td>\n",
       "    </tr>\n",
       "    <tr>\n",
       "      <th>5</th>\n",
       "      <td>NFYB</td>\n",
       "      <td>0.4222</td>\n",
       "      <td>0.1124</td>\n",
       "      <td>90.2391</td>\n",
       "      <td>0.3524</td>\n",
       "      <td>0.1230</td>\n",
       "      <td>0.3197</td>\n",
       "      <td>0.6153</td>\n",
       "      <td>1</td>\n",
       "    </tr>\n",
       "    <tr>\n",
       "      <th>3</th>\n",
       "      <td>KLF5</td>\n",
       "      <td>0.0000</td>\n",
       "      <td>-0.1068</td>\n",
       "      <td>89.1964</td>\n",
       "      <td>-0.0490</td>\n",
       "      <td>-0.0760</td>\n",
       "      <td>0.2940</td>\n",
       "      <td>0.5635</td>\n",
       "      <td>1</td>\n",
       "    </tr>\n",
       "    <tr>\n",
       "      <th>8</th>\n",
       "      <td>ZBTB18</td>\n",
       "      <td>0.0000</td>\n",
       "      <td>-0.0360</td>\n",
       "      <td>88.4380</td>\n",
       "      <td>-0.0605</td>\n",
       "      <td>-0.0235</td>\n",
       "      <td>0.2451</td>\n",
       "      <td>0.4602</td>\n",
       "      <td>1</td>\n",
       "    </tr>\n",
       "    <tr>\n",
       "      <th>2</th>\n",
       "      <td>KLF16</td>\n",
       "      <td>0.0000</td>\n",
       "      <td>-0.0003</td>\n",
       "      <td>83.2908</td>\n",
       "      <td>-0.0823</td>\n",
       "      <td>-0.0198</td>\n",
       "      <td>0.2380</td>\n",
       "      <td>0.4469</td>\n",
       "      <td>1</td>\n",
       "    </tr>\n",
       "    <tr>\n",
       "      <th>1</th>\n",
       "      <td>EGR1</td>\n",
       "      <td>0.0000</td>\n",
       "      <td>0.0380</td>\n",
       "      <td>80.6774</td>\n",
       "      <td>0.0381</td>\n",
       "      <td>0.0730</td>\n",
       "      <td>0.2524</td>\n",
       "      <td>0.4426</td>\n",
       "      <td>2</td>\n",
       "    </tr>\n",
       "  </tbody>\n",
       "</table>\n",
       "</div>"
      ],
      "text/plain": [
       "     gene  betaLasso  pearsonCoeff   rfScore  betaRidge  spearmanCoeff  \\\n",
       "7     SP4    -1.0539       -0.1943  124.1428    -0.8021        -0.1845   \n",
       "6   PPARG     0.2024        0.1417   96.7821     0.1683         0.1369   \n",
       "4    NFYA     0.3480        0.0524   95.6285     0.2841         0.0702   \n",
       "5    NFYB     0.4222        0.1124   90.2391     0.3524         0.1230   \n",
       "3    KLF5     0.0000       -0.1068   89.1964    -0.0490        -0.0760   \n",
       "8  ZBTB18     0.0000       -0.0360   88.4380    -0.0605        -0.0235   \n",
       "2   KLF16     0.0000       -0.0003   83.2908    -0.0823        -0.0198   \n",
       "1    EGR1     0.0000        0.0380   80.6774     0.0381         0.0730   \n",
       "\n",
       "   concordance  pcaMax  bindingSites  \n",
       "7       0.4376  2.4050             1  \n",
       "6       0.2515  0.4600             1  \n",
       "4       0.2478  0.4248             1  \n",
       "5       0.3197  0.6153             1  \n",
       "3       0.2940  0.5635             1  \n",
       "8       0.2451  0.4602             1  \n",
       "2       0.2380  0.4469             1  \n",
       "1       0.2524  0.4426             2  "
      ]
     },
     "execution_count": 39,
     "metadata": {},
     "output_type": "execute_result"
    }
   ],
   "source": [
    "model_right"
   ]
  },
  {
   "cell_type": "code",
   "execution_count": 40,
   "metadata": {},
   "outputs": [],
   "source": [
    "fp_right.to_csv(\"fpRight.tsv\", sep=\"\\t\", index=False)\n",
    "model_right.to_csv(\"modelRight.tsv\", sep=\"\\t\", index=False)"
   ]
  },
  {
   "cell_type": "code",
   "execution_count": 7,
   "metadata": {},
   "outputs": [
    {
     "name": "stdout",
     "output_type": "stream",
     "text": [
      " now reducing modelName left\n",
      " now reducing modelName right\n",
      "after calling displayGraphFromFile\n"
     ]
    }
   ],
   "source": [
    "modelList = {\"left\": {\"model\": model_left,   \"regions\": fp_left}, \n",
    "             \"right\": {\"model\": model_right, \"regions\": fp_right}};\n",
    "trena.displayMultiModelGraph(targetGene, modelList)\n",
    "trena.setStyle(\"trenaVizStyle.js\")"
   ]
  }
 ],
 "metadata": {
  "kernelspec": {
   "display_name": "Python 3",
   "language": "python",
   "name": "python3"
  },
  "language_info": {
   "codemirror_mode": {
    "name": "ipython",
    "version": 3
   },
   "file_extension": ".py",
   "mimetype": "text/x-python",
   "name": "python",
   "nbconvert_exporter": "python",
   "pygments_lexer": "ipython3",
   "version": "3.6.3"
  }
 },
 "nbformat": 4,
 "nbformat_minor": 2
}
