{
 "cells": [
  {
   "cell_type": "code",
   "execution_count": 1,
   "metadata": {},
   "outputs": [
    {
     "data": {
      "application/vnd.jupyter.widget-view+json": {
       "model_id": "4570949359a44f4993452bfbf8e7982a",
       "version_major": 2,
       "version_minor": 0
      },
      "text/html": [
       "<p>Failed to display Jupyter Widget of type <code>ipyTrenaViz</code>.</p>\n",
       "<p>\n",
       "  If you're reading this message in Jupyter Notebook or JupyterLab, it may mean\n",
       "  that the widgets JavaScript is still loading. If this message persists, it\n",
       "  likely means that the widgets JavaScript library is either not installed or\n",
       "  not enabled. See the <a href=\"https://ipywidgets.readthedocs.io/en/stable/user_install.html\">Jupyter\n",
       "  Widgets Documentation</a> for setup instructions.\n",
       "</p>\n",
       "<p>\n",
       "  If you're reading this message in another notebook frontend (for example, a static\n",
       "  rendering on GitHub or <a href=\"https://nbviewer.jupyter.org/\">NBViewer</a>),\n",
       "  it may mean that your frontend doesn't currently support widgets.\n",
       "</p>\n"
      ],
      "text/plain": [
       "ipyTrenaViz()"
      ]
     },
     "metadata": {},
     "output_type": "display_data"
    }
   ],
   "source": [
    "import sys, time\n",
    "sys.path.append(\"..\")\n",
    "from hub.Trena import *\n",
    "trena = Trena('hg38')"
   ]
  },
  {
   "cell_type": "code",
   "execution_count": 12,
   "metadata": {},
   "outputs": [],
   "source": [
    "trena.tv.setWidgetHeight(1000)"
   ]
  },
  {
   "cell_type": "code",
   "execution_count": 15,
   "metadata": {},
   "outputs": [],
   "source": [
    "expected = ['gtexFibroblast', 'gtexPrimary', 'protectedAndExposed']\n",
    "assert(sorted(trena.getExpressionMatrixNames()) ==  sorted(expected))"
   ]
  },
  {
   "cell_type": "code",
   "execution_count": 16,
   "metadata": {},
   "outputs": [],
   "source": [
    "tbl_mtxSummary = trena.summarizeExpressionMatrices()"
   ]
  },
  {
   "cell_type": "code",
   "execution_count": 22,
   "metadata": {},
   "outputs": [],
   "source": [
    "loc_4182bp = 'chr17:50,201,013-50,205,194'\n",
    "trena.showGenomicRegion(loc_4182bp)\n",
    "time.sleep(5)"
   ]
  },
  {
   "cell_type": "code",
   "execution_count": 23,
   "metadata": {},
   "outputs": [],
   "source": [
    "assert(trena.getGenomicRegion() == loc_4182bp)"
   ]
  },
  {
   "cell_type": "code",
   "execution_count": 3,
   "metadata": {},
   "outputs": [
    {
     "name": "stdout",
     "output_type": "stream",
     "text": [
      "gfir 1\n",
      "current working directory: /home/jovyan/trenaViz/hostDir\n",
      "gfir 2\n",
      "gfir 3\n",
      "gfir 4\n",
      "gfir 5\n",
      "gfir 6\n",
      "gfir 7\n",
      "gfir 8\n",
      "about to call self.tv.addBedTrackFromDataFrame\n",
      "gfir 9\n"
     ]
    }
   ],
   "source": [
    "tbl_fp_4k = trena.getFootprintsInRegion(display=True)"
   ]
  },
  {
   "cell_type": "code",
   "execution_count": null,
   "metadata": {},
   "outputs": [],
   "source": [
    "tbl_fp_4k"
   ]
  },
  {
   "cell_type": "code",
   "execution_count": null,
   "metadata": {},
   "outputs": [],
   "source": [
    "tbl_model_4k = trena.createGeneModel(\"COL1A1\", [\"lasso\", \"pearson\", \"randomForest\", \"ridge\", \"spearman\"], tbl_fp_4k, \"MotifDb\", \"protectedAndExposed\")\n",
    "tbl_model_4k.head()"
   ]
  },
  {
   "cell_type": "code",
   "execution_count": 2,
   "metadata": {},
   "outputs": [],
   "source": [
    "loc_655bp  = 'chr17:50,201,511-50,202,165'\n",
    "trena.showGenomicRegion(loc_655bp)\n",
    "time.sleep(5)"
   ]
  },
  {
   "cell_type": "code",
   "execution_count": 3,
   "metadata": {},
   "outputs": [],
   "source": [
    "assert(trena.getGenomicRegion() == loc_655bp)"
   ]
  },
  {
   "cell_type": "code",
   "execution_count": 9,
   "metadata": {},
   "outputs": [
    {
     "data": {
      "text/html": [
       "<div>\n",
       "<table border=\"1\" class=\"dataframe\">\n",
       "  <thead>\n",
       "    <tr style=\"text-align: right;\">\n",
       "      <th></th>\n",
       "      <th>gene</th>\n",
       "      <th>betaLasso</th>\n",
       "      <th>pearsonCoeff</th>\n",
       "      <th>rfScore</th>\n",
       "      <th>betaRidge</th>\n",
       "      <th>spearmanCoeff</th>\n",
       "      <th>concordance</th>\n",
       "      <th>pcaMax</th>\n",
       "      <th>bindingSites</th>\n",
       "    </tr>\n",
       "  </thead>\n",
       "  <tbody>\n",
       "    <tr>\n",
       "      <th>1</th>\n",
       "      <td>BCL6B</td>\n",
       "      <td>0.5570</td>\n",
       "      <td>0.4620</td>\n",
       "      <td>123.1477</td>\n",
       "      <td>0.4448</td>\n",
       "      <td>0.4455</td>\n",
       "      <td>0.4146</td>\n",
       "      <td>1.1628</td>\n",
       "      <td>1</td>\n",
       "    </tr>\n",
       "    <tr>\n",
       "      <th>4</th>\n",
       "      <td>RFX5</td>\n",
       "      <td>0.7805</td>\n",
       "      <td>0.4312</td>\n",
       "      <td>107.1960</td>\n",
       "      <td>0.6793</td>\n",
       "      <td>0.4349</td>\n",
       "      <td>0.3887</td>\n",
       "      <td>1.2328</td>\n",
       "      <td>3</td>\n",
       "    </tr>\n",
       "    <tr>\n",
       "      <th>3</th>\n",
       "      <td>NR2F1</td>\n",
       "      <td>0.3967</td>\n",
       "      <td>0.3584</td>\n",
       "      <td>69.8236</td>\n",
       "      <td>0.4050</td>\n",
       "      <td>0.3493</td>\n",
       "      <td>0.3442</td>\n",
       "      <td>0.8501</td>\n",
       "      <td>3</td>\n",
       "    </tr>\n",
       "    <tr>\n",
       "      <th>7</th>\n",
       "      <td>SP4</td>\n",
       "      <td>-1.0784</td>\n",
       "      <td>-0.1943</td>\n",
       "      <td>61.0167</td>\n",
       "      <td>-0.6928</td>\n",
       "      <td>-0.1845</td>\n",
       "      <td>0.4380</td>\n",
       "      <td>1.1175</td>\n",
       "      <td>3</td>\n",
       "    </tr>\n",
       "    <tr>\n",
       "      <th>5</th>\n",
       "      <td>SMAD3</td>\n",
       "      <td>-0.2198</td>\n",
       "      <td>-0.0921</td>\n",
       "      <td>38.5030</td>\n",
       "      <td>-0.2890</td>\n",
       "      <td>-0.1174</td>\n",
       "      <td>0.2715</td>\n",
       "      <td>0.5246</td>\n",
       "      <td>4</td>\n",
       "    </tr>\n",
       "  </tbody>\n",
       "</table>\n",
       "</div>"
      ],
      "text/plain": [
       "    gene  betaLasso  pearsonCoeff   rfScore  betaRidge  spearmanCoeff  \\\n",
       "1  BCL6B     0.5570        0.4620  123.1477     0.4448         0.4455   \n",
       "4   RFX5     0.7805        0.4312  107.1960     0.6793         0.4349   \n",
       "3  NR2F1     0.3967        0.3584   69.8236     0.4050         0.3493   \n",
       "7    SP4    -1.0784       -0.1943   61.0167    -0.6928        -0.1845   \n",
       "5  SMAD3    -0.2198       -0.0921   38.5030    -0.2890        -0.1174   \n",
       "\n",
       "   concordance  pcaMax  bindingSites  \n",
       "1       0.4146  1.1628             1  \n",
       "4       0.3887  1.2328             3  \n",
       "3       0.3442  0.8501             3  \n",
       "7       0.4380  1.1175             3  \n",
       "5       0.2715  0.5246             4  "
      ]
     },
     "execution_count": 9,
     "metadata": {},
     "output_type": "execute_result"
    }
   ],
   "source": [
    "tbl_fp_655bp = trena.getFootprintsInRegion(display=False)\n",
    "tbl_model_655bp = trena.createGeneModel(\"COL1A1\", [\"lasso\", \"pearson\", \"randomForest\", \"ridge\", \"spearman\"], tbl_fp_655bp, \"MotifDb\", \"protectedAndExposed\")\n",
    "tbl_model_655bp.head()"
   ]
  },
  {
   "cell_type": "code",
   "execution_count": 10,
   "metadata": {},
   "outputs": [
    {
     "data": {
      "text/plain": [
       "['big', 'small']"
      ]
     },
     "execution_count": 10,
     "metadata": {},
     "output_type": "execute_result"
    }
   ],
   "source": [
    "modelList = {\"big\": {\"model\": tbl_model_4k, \"regions\": tbl_fp_4k}, \"small\": {\"model\": tbl_model_655bp, \"regions\": tbl_fp_655bp}}\n",
    "list(modelList.keys())"
   ]
  },
  {
   "cell_type": "code",
   "execution_count": 11,
   "metadata": {},
   "outputs": [
    {
     "name": "stdout",
     "output_type": "stream",
     "text": [
      "dict_keys(['big', 'small'])\n",
      " now reducing modelName big\n",
      " now reducing modelName small\n",
      "after calling displayGraphFromFile\n"
     ]
    }
   ],
   "source": [
    "targetGene = \"COL1A1\"\n",
    "modelList = {\"big\": {\"model\": tbl_model_4k, \"regions\": tbl_fp_4k}, \"small\": {\"model\": tbl_model_655bp, \"regions\": tbl_fp_655bp}}\n",
    "print(modelList.keys())\n",
    "# g_json = trena.buildMultiModelGraph(targetGene, modelList)\n",
    "trena.displayMultiModelGraph(targetGene, modelList)\n",
    "trena.setStyle(\"trenaVizStyle.js\")"
   ]
  }
 ],
 "metadata": {
  "kernelspec": {
   "display_name": "Python 3",
   "language": "python",
   "name": "python3"
  },
  "language_info": {
   "codemirror_mode": {
    "name": "ipython",
    "version": 3
   },
   "file_extension": ".py",
   "mimetype": "text/x-python",
   "name": "python",
   "nbconvert_exporter": "python",
   "pygments_lexer": "ipython3",
   "version": "3.6.3"
  }
 },
 "nbformat": 4,
 "nbformat_minor": 2
}
