{
 "cells": [
  {
   "cell_type": "code",
   "execution_count": 1,
   "metadata": {},
   "outputs": [],
   "source": [
     "from hub.Trena import *\n",
     "trena = Trena('col1a1')\n",
     "trena.display()"
   ]
  },
  {
   "cell_type": "code",
   "execution_count": null,
   "metadata": {},
   "outputs": [],
   "source": [
     "trena.showGenomicRegion('col1a1')"
     ]
  },
  {
   "cell_type": "code",
   "execution_count": null,
   "metadata": {},
   "outputs": [],
   "source": [
     "trena.showGenomicRegion('chr17:50,201,500-50,201,900')"
     ]
  },
  {
   "cell_type": "code",
   "execution_count": null,
   "metadata": {},
   "outputs": [],
   "source": [
     "trena.showGenomicRegion('chr17:50,201,013-50,205,194')"
     ]
  },
  /*********************
  {
   "cell_type": "code",
   "execution_count": null,
   "metadata": {},
   "outputs": [],
   "source": [
      "expected = ['gtexFibroblast', 'gtexPrimary', 'protectedAndExposed']",
      "assert(sorted(trena.getExpressionMatrixNames()) ==  sorted(expected))"
     ]
  },
  {
   "cell_type": "code",
   "execution_count": null,
   "metadata": {},
   "outputs": [],
   "source": [
     "tbl_mtxSummary = trena.summarizeExpressionMatrices()",
     "assert(tbl_mtxSummary.shape == (3,7))",
     "expected = ['gtexFibroblast', 'gtexPrimary', 'protectedAndExposed']",
     "assert(sorted(tbl_mtxSummary.axes[0].tolist()) == expected)",
     "expected = ['nrow', 'ncol', 'min', 'q1', 'median', 'q3', 'max']",
     "assert(tbl_mtxSummary.axes[1].tolist() == expected)",
     "assert(tbl_mtxSummary['max']['protectedAndExposed'] == 11.1892)"
     ]
  },
  {
   "cell_type": "code",
   "execution_count": null,
   "metadata": {},
   "outputs": [],
   "source": [
     "trena.showGenomicRegion('chr17:50,201,500-50,201,900')",
     "tbl_fp = trena.getFootprintsInRegion()",
     "assert(tbl_fp.shape == (184,10))",
     "expectedColnames = ['chrom', 'motifStart', 'motifEnd', 'motifName', 'strand', 'score','length', 'distance.from.tss', 'id', 'db']"
     "assert(tbl_fp.axes[1].tolist() == expectedColnames)"
     ]
  },
  {
   "cell_type": "code",
   "execution_count": null,
   "metadata": {},
   "outputs": [],
   "source": [
      "tbl_fp"
     ]
  },
  {
   "cell_type": "code",
   "execution_count": null,
   "metadata": {},
   "outputs": [],
   "source": [
      "trena.displayFootprints('http://khaleesi:8871/tree/sharedData/tbl.bed')"
     ]
  },
   ************/
    {"Cell_type": "code",
     "execution_count": null,
     "metadata": {},
     "outputs": [],
     "source": [
        "trena.createGeneModel('COL1A1', 'protectedAndExposed')"
      ]}
    ],

 "metadata": {
  "kernelspec": {
   "display_name": "Python 3",
   "language": "python",
   "name": "python3"
  },
  "language_info": {
   "codemirror_mode": {
    "name": "ipython",
    "version": 3
   },
   "file_extension": ".py",
   "mimetype": "text/x-python",
   "name": "python",
   "nbconvert_exporter": "python",
   "pygments_lexer": "ipython3",
   "version": "3.6.0"
  }
 },
 "nbformat": 4,
 "nbformat_minor": 2
}
