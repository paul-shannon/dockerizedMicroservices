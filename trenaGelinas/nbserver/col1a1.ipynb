{
 "cells": [
  {
   "cell_type": "code",
   "execution_count": 1,
   "metadata": {},
   "outputs": [],
   "source": [
     "from hub.Trena import *\n",
     "trena = Trena('col1a1')\n",
     "trena.display()"
   ]
  },
  {
   "cell_type": "code",
   "execution_count": null,
   "metadata": {},
   "outputs": [],
   "source": [
     "msg = {'cmd': 'ping', 'status': 'request', 'callback': '', 'payload': ''}\n",
     "socket.send_string(json.dumps(msg))\n",
     "response = json.loads(socket.recv_string());\n",
     "print(response)\n"
     ]
  }
 ],
 "metadata": {
  "kernelspec": {
   "display_name": "Python 3",
   "language": "python",
   "name": "python3"
  },
  "language_info": {
   "codemirror_mode": {
    "name": "ipython",
    "version": 3
   },
   "file_extension": ".py",
   "mimetype": "text/x-python",
   "name": "python",
   "nbconvert_exporter": "python",
   "pygments_lexer": "ipython3",
   "version": "3.6.0"
  }
 },
 "nbformat": 4,
 "nbformat_minor": 2
}
