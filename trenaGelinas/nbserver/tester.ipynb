{
 "cells": [
  {
   "cell_type": "code",
   "execution_count": 1,
   "metadata": {
    "scrolled": false
   },
   "outputs": [
    {
     "name": "stdout",
     "output_type": "stream",
     "text": [
      "--- starting Trena ctor\n",
      "ipyTrenaViz()\n"
     ]
    },
    {
     "data": {
      "application/vnd.jupyter.widget-view+json": {
       "model_id": "b2716c5502fc40e3b364a731d8d96117",
       "version_major": 2,
       "version_minor": 0
      },
      "text/html": [
       "<p>Failed to display Jupyter Widget of type <code>ipyTrenaViz</code>.</p>\n",
       "<p>\n",
       "  If you're reading this message in Jupyter Notebook or JupyterLab, it may mean\n",
       "  that the widgets JavaScript is still loading. If this message persists, it\n",
       "  likely means that the widgets JavaScript library is either not installed or\n",
       "  not enabled. See the <a href=\"https://ipywidgets.readthedocs.io/en/stable/user_install.html\">Jupyter\n",
       "  Widgets Documentation</a> for setup instructions.\n",
       "</p>\n",
       "<p>\n",
       "  If you're reading this message in another notebook frontend (for example, a static\n",
       "  rendering on GitHub or <a href=\"https://nbviewer.jupyter.org/\">NBViewer</a>),\n",
       "  it may mean that your frontend doesn't currently support widgets.\n",
       "</p>\n"
      ],
      "text/plain": [
       "ipyTrenaViz()"
      ]
     },
     "metadata": {},
     "output_type": "display_data"
    },
    {
     "name": "stdout",
     "output_type": "stream",
     "text": [
      " +++++ ipyTrenaViz.py, setGenome: hg38\n"
     ]
    }
   ],
   "source": [
    "from hub.Trena import *\n",
    "trena = Trena('hg38')"
   ]
  },
  {
   "cell_type": "code",
   "execution_count": 6,
   "metadata": {},
   "outputs": [],
   "source": [
    "loc_4182bp = 'chr17:50,201,013-50,205,194'\n",
    "trena.showGenomicRegion(loc_4182bp)"
   ]
  },
  {
   "cell_type": "code",
   "execution_count": 7,
   "metadata": {},
   "outputs": [],
   "source": [
    "#trena.tv.getBrowserState()\n",
    "assert(trena.getGenomicRegion() == loc_4182bp)"
   ]
  },
  {
   "cell_type": "code",
   "execution_count": 8,
   "metadata": {},
   "outputs": [],
   "source": [
    "import pandas as pd\n",
    "base = 50201563   # near tss of col1a1\n",
    "tbl = pd.DataFrame([[\"chr17\", base+10,  base+100,  \"fp1\", 9.9],\n",
    "                    [\"chr17\", base+90,  base+130,  \"fp2\", 0.5],\n",
    "                    [\"chr17\", base+45,  base+80,   \"fp3\", 0.9],\n",
    "                    [\"chr17\", base+112, base+140,  \"fp4\", 32],\n",
    "                   ])"
   ]
  },
  {
   "cell_type": "code",
   "execution_count": 9,
   "metadata": {},
   "outputs": [],
   "source": [
    "trena.addBedTrackFromDataFrame(tbl, \"testTrack\", \"EXPANDED\", \"green\", 200)"
   ]
  },
  {
   "cell_type": "code",
   "execution_count": 10,
   "metadata": {},
   "outputs": [],
   "source": [
    "expected = ['gtexFibroblast', 'gtexPrimary', 'protectedAndExposed']\n",
    "assert(sorted(trena.getExpressionMatrixNames()) ==  sorted(expected))"
   ]
  },
  {
   "cell_type": "code",
   "execution_count": 11,
   "metadata": {},
   "outputs": [],
   "source": [
    "tbl_mtxSummary = trena.summarizeExpressionMatrices()\n",
    "assert(tbl_mtxSummary.shape == (3,7))\n",
    "expected = ['gtexFibroblast', 'gtexPrimary', 'protectedAndExposed']\n",
    "assert(sorted(tbl_mtxSummary.axes[0].tolist()) == expected)\n",
    "expected = ['nrow', 'ncol', 'min', 'q1', 'median', 'q3', 'max']\n",
    "assert(tbl_mtxSummary.axes[1].tolist() == expected)\n",
    "assert(tbl_mtxSummary['max']['protectedAndExposed'] == 11.1892)"
   ]
  },
  {
   "cell_type": "code",
   "execution_count": 12,
   "metadata": {},
   "outputs": [],
   "source": [
    "tbl_fp = trena.getFootprintsInRegion(display=False)"
   ]
  },
  {
   "cell_type": "code",
   "execution_count": 13,
   "metadata": {},
   "outputs": [],
   "source": [
    "assert(tbl_fp.shape[1] == 10) # 10 columns\n",
    "assert(tbl_fp.shape[0] > 900) # actually 979 on (27 nov 2017), with all four skin footprint databases\n",
    "expectedColnames = ['chrom', 'motifStart', 'motifEnd', 'motifName', 'strand', 'score', 'length', 'distance.from.tss', 'id', 'db']\n",
    "assert(tbl_fp.axes[1].tolist() == expectedColnames)"
   ]
  },
  {
   "cell_type": "code",
   "execution_count": 14,
   "metadata": {},
   "outputs": [],
   "source": [
    "tbl_model = trena.createGeneModel('COL1A1', 'protectedAndExposed')"
   ]
  },
  {
   "cell_type": "code",
   "execution_count": 15,
   "metadata": {},
   "outputs": [],
   "source": [
    "assert(tbl_model.shape[1] == 10)   # ten columns\n",
    "assert(tbl_model.shape[0] > 8)     # 10 rows at present (27 nov 2017)\n",
    "expectedColnames = ['gene', 'betaLasso',  'lassoPValue', 'pearsonCoeff', 'rfScore', 'betaRidge', 'spearmanCoeff', \n",
    "                    'concordance', 'pcaMax', 'bindingSites']\n",
    "assert(tbl_model.axes[1].tolist() == expectedColnames)"
   ]
  },
  {
   "cell_type": "code",
   "execution_count": 16,
   "metadata": {},
   "outputs": [],
   "source": [
    "assert(tbl_model[\"gene\"][0:3].tolist() == ['CREB3L1', 'PRRX1', 'BHLHE22'])"
   ]
  },
  {
   "cell_type": "code",
   "execution_count": 21,
   "metadata": {},
   "outputs": [],
   "source": [
    "assert(tbl_model[\"rfScore\"][0] > 250)\n",
    "assert(tbl_model[\"rfScore\"][1] > 50)\n",
    "assert(tbl_model[\"rfScore\"][2] > 30)"
   ]
  },
  {
   "cell_type": "code",
   "execution_count": 18,
   "metadata": {},
   "outputs": [
    {
     "data": {
      "text/html": [
       "<div>\n",
       "<table border=\"1\" class=\"dataframe\">\n",
       "  <thead>\n",
       "    <tr style=\"text-align: right;\">\n",
       "      <th></th>\n",
       "      <th>gene</th>\n",
       "      <th>betaLasso</th>\n",
       "      <th>lassoPValue</th>\n",
       "      <th>pearsonCoeff</th>\n",
       "      <th>rfScore</th>\n",
       "      <th>betaRidge</th>\n",
       "      <th>spearmanCoeff</th>\n",
       "      <th>concordance</th>\n",
       "      <th>pcaMax</th>\n",
       "      <th>bindingSites</th>\n",
       "    </tr>\n",
       "  </thead>\n",
       "  <tbody>\n",
       "    <tr>\n",
       "      <th>3</th>\n",
       "      <td>CREB3L1</td>\n",
       "      <td>1.0771</td>\n",
       "      <td>1.082700e-92</td>\n",
       "      <td>0.8289</td>\n",
       "      <td>305.5384</td>\n",
       "      <td>0.3786</td>\n",
       "      <td>0.8130</td>\n",
       "      <td>0.5027</td>\n",
       "      <td>3.1520</td>\n",
       "      <td>11</td>\n",
       "    </tr>\n",
       "    <tr>\n",
       "      <th>6</th>\n",
       "      <td>PRRX1</td>\n",
       "      <td>0.0483</td>\n",
       "      <td>1.053900e-07</td>\n",
       "      <td>0.6031</td>\n",
       "      <td>79.4016</td>\n",
       "      <td>0.1450</td>\n",
       "      <td>0.5901</td>\n",
       "      <td>0.4120</td>\n",
       "      <td>0.8909</td>\n",
       "      <td>2</td>\n",
       "    </tr>\n",
       "    <tr>\n",
       "      <th>2</th>\n",
       "      <td>BHLHE22</td>\n",
       "      <td>0.0837</td>\n",
       "      <td>2.822400e-10</td>\n",
       "      <td>0.5008</td>\n",
       "      <td>59.3885</td>\n",
       "      <td>0.2819</td>\n",
       "      <td>0.5461</td>\n",
       "      <td>0.3974</td>\n",
       "      <td>0.9445</td>\n",
       "      <td>3</td>\n",
       "    </tr>\n",
       "    <tr>\n",
       "      <th>4</th>\n",
       "      <td>JDP2</td>\n",
       "      <td>0.0000</td>\n",
       "      <td>3.847000e-01</td>\n",
       "      <td>0.4242</td>\n",
       "      <td>23.4946</td>\n",
       "      <td>0.1843</td>\n",
       "      <td>0.4224</td>\n",
       "      <td>0.3209</td>\n",
       "      <td>0.6260</td>\n",
       "      <td>6</td>\n",
       "    </tr>\n",
       "    <tr>\n",
       "      <th>9</th>\n",
       "      <td>SPI1</td>\n",
       "      <td>0.1517</td>\n",
       "      <td>9.463800e-13</td>\n",
       "      <td>0.4382</td>\n",
       "      <td>20.5915</td>\n",
       "      <td>0.2240</td>\n",
       "      <td>0.4253</td>\n",
       "      <td>0.3429</td>\n",
       "      <td>0.7418</td>\n",
       "      <td>2</td>\n",
       "    </tr>\n",
       "    <tr>\n",
       "      <th>1</th>\n",
       "      <td>BCL6B</td>\n",
       "      <td>0.0000</td>\n",
       "      <td>0.000000e+00</td>\n",
       "      <td>0.4620</td>\n",
       "      <td>15.7432</td>\n",
       "      <td>0.1459</td>\n",
       "      <td>0.4455</td>\n",
       "      <td>0.3223</td>\n",
       "      <td>0.6095</td>\n",
       "      <td>1</td>\n",
       "    </tr>\n",
       "    <tr>\n",
       "      <th>5</th>\n",
       "      <td>MAFF</td>\n",
       "      <td>-0.2039</td>\n",
       "      <td>7.473600e-17</td>\n",
       "      <td>-0.2676</td>\n",
       "      <td>13.9606</td>\n",
       "      <td>-0.1602</td>\n",
       "      <td>-0.2792</td>\n",
       "      <td>0.4206</td>\n",
       "      <td>0.8454</td>\n",
       "      <td>2</td>\n",
       "    </tr>\n",
       "    <tr>\n",
       "      <th>7</th>\n",
       "      <td>RFX5</td>\n",
       "      <td>0.0606</td>\n",
       "      <td>2.058700e-16</td>\n",
       "      <td>0.4312</td>\n",
       "      <td>13.3704</td>\n",
       "      <td>0.0993</td>\n",
       "      <td>0.4349</td>\n",
       "      <td>0.3172</td>\n",
       "      <td>0.5941</td>\n",
       "      <td>4</td>\n",
       "    </tr>\n",
       "    <tr>\n",
       "      <th>8</th>\n",
       "      <td>SP4</td>\n",
       "      <td>0.0000</td>\n",
       "      <td>9.200000e-03</td>\n",
       "      <td>-0.1943</td>\n",
       "      <td>6.0942</td>\n",
       "      <td>-0.2890</td>\n",
       "      <td>-0.1845</td>\n",
       "      <td>0.4023</td>\n",
       "      <td>0.8655</td>\n",
       "      <td>11</td>\n",
       "    </tr>\n",
       "    <tr>\n",
       "      <th>10</th>\n",
       "      <td>TFAP4</td>\n",
       "      <td>-0.0379</td>\n",
       "      <td>2.561900e-06</td>\n",
       "      <td>-0.2868</td>\n",
       "      <td>5.1193</td>\n",
       "      <td>-0.2632</td>\n",
       "      <td>-0.2887</td>\n",
       "      <td>0.3948</td>\n",
       "      <td>0.8997</td>\n",
       "      <td>6</td>\n",
       "    </tr>\n",
       "  </tbody>\n",
       "</table>\n",
       "</div>"
      ],
      "text/plain": [
       "       gene  betaLasso   lassoPValue  pearsonCoeff   rfScore  betaRidge  \\\n",
       "3   CREB3L1     1.0771  1.082700e-92        0.8289  305.5384     0.3786   \n",
       "6     PRRX1     0.0483  1.053900e-07        0.6031   79.4016     0.1450   \n",
       "2   BHLHE22     0.0837  2.822400e-10        0.5008   59.3885     0.2819   \n",
       "4      JDP2     0.0000  3.847000e-01        0.4242   23.4946     0.1843   \n",
       "9      SPI1     0.1517  9.463800e-13        0.4382   20.5915     0.2240   \n",
       "1     BCL6B     0.0000  0.000000e+00        0.4620   15.7432     0.1459   \n",
       "5      MAFF    -0.2039  7.473600e-17       -0.2676   13.9606    -0.1602   \n",
       "7      RFX5     0.0606  2.058700e-16        0.4312   13.3704     0.0993   \n",
       "8       SP4     0.0000  9.200000e-03       -0.1943    6.0942    -0.2890   \n",
       "10    TFAP4    -0.0379  2.561900e-06       -0.2868    5.1193    -0.2632   \n",
       "\n",
       "    spearmanCoeff  concordance  pcaMax  bindingSites  \n",
       "3          0.8130       0.5027  3.1520            11  \n",
       "6          0.5901       0.4120  0.8909             2  \n",
       "2          0.5461       0.3974  0.9445             3  \n",
       "4          0.4224       0.3209  0.6260             6  \n",
       "9          0.4253       0.3429  0.7418             2  \n",
       "1          0.4455       0.3223  0.6095             1  \n",
       "5         -0.2792       0.4206  0.8454             2  \n",
       "7          0.4349       0.3172  0.5941             4  \n",
       "8         -0.1845       0.4023  0.8655            11  \n",
       "10        -0.2887       0.3948  0.8997             6  "
      ]
     },
     "execution_count": 18,
     "metadata": {},
     "output_type": "execute_result"
    }
   ],
   "source": [
    "tbl_model"
   ]
  },
  {
   "cell_type": "code",
   "execution_count": null,
   "metadata": {},
   "outputs": [],
   "source": []
  }
 ],
 "metadata": {
  "kernelspec": {
   "display_name": "Python 3",
   "language": "python",
   "name": "python3"
  },
  "language_info": {
   "codemirror_mode": {
    "name": "ipython",
    "version": 3
   },
   "file_extension": ".py",
   "mimetype": "text/x-python",
   "name": "python",
   "nbconvert_exporter": "python",
   "pygments_lexer": "ipython3",
   "version": "3.6.3"
  }
 },
 "nbformat": 4,
 "nbformat_minor": 2
}
