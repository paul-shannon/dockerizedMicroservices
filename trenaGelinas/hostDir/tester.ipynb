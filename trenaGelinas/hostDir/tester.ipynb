{
 "cells": [
  {
   "cell_type": "code",
   "execution_count": 1,
   "metadata": {
    "scrolled": false
   },
   "outputs": [
    {
     "data": {
      "application/vnd.jupyter.widget-view+json": {
       "model_id": "85f093ba7ac545e799a839eba1adf6e7",
       "version_major": 2,
       "version_minor": 0
      },
      "text/html": [
       "<p>Failed to display Jupyter Widget of type <code>ipyTrenaViz</code>.</p>\n",
       "<p>\n",
       "  If you're reading this message in Jupyter Notebook or JupyterLab, it may mean\n",
       "  that the widgets JavaScript is still loading. If this message persists, it\n",
       "  likely means that the widgets JavaScript library is either not installed or\n",
       "  not enabled. See the <a href=\"https://ipywidgets.readthedocs.io/en/stable/user_install.html\">Jupyter\n",
       "  Widgets Documentation</a> for setup instructions.\n",
       "</p>\n",
       "<p>\n",
       "  If you're reading this message in another notebook frontend (for example, a static\n",
       "  rendering on GitHub or <a href=\"https://nbviewer.jupyter.org/\">NBViewer</a>),\n",
       "  it may mean that your frontend doesn't currently support widgets.\n",
       "</p>\n"
      ],
      "text/plain": [
       "ipyTrenaViz()"
      ]
     },
     "metadata": {},
     "output_type": "display_data"
    }
   ],
   "source": [
    "import sys\n",
    "sys.path.append(\"..\")\n",
    "from hub.Trena import *\n",
    "trena = Trena('hg38')"
   ]
  },
  {
   "cell_type": "code",
   "execution_count": 2,
   "metadata": {},
   "outputs": [
    {
     "data": {
      "text/html": [
       "<div>\n",
       "<table border=\"1\" class=\"dataframe\">\n",
       "  <thead>\n",
       "    <tr style=\"text-align: right;\">\n",
       "      <th></th>\n",
       "      <th>a</th>\n",
       "      <th>b</th>\n",
       "      <th>c</th>\n",
       "      <th>d</th>\n",
       "      <th>e</th>\n",
       "      <th>f</th>\n",
       "      <th>g</th>\n",
       "      <th>h</th>\n",
       "    </tr>\n",
       "  </thead>\n",
       "  <tbody>\n",
       "    <tr>\n",
       "      <th>A</th>\n",
       "      <td>0.0592</td>\n",
       "      <td>0.7124</td>\n",
       "      <td>0.6701</td>\n",
       "      <td>0.6486</td>\n",
       "      <td>0.8972</td>\n",
       "      <td>0.9618</td>\n",
       "      <td>0.9974</td>\n",
       "      <td>0.5269</td>\n",
       "    </tr>\n",
       "    <tr>\n",
       "      <th>B</th>\n",
       "      <td>0.2239</td>\n",
       "      <td>0.8407</td>\n",
       "      <td>0.4494</td>\n",
       "      <td>0.5474</td>\n",
       "      <td>0.2754</td>\n",
       "      <td>0.5828</td>\n",
       "      <td>0.8532</td>\n",
       "      <td>0.0483</td>\n",
       "    </tr>\n",
       "    <tr>\n",
       "      <th>C</th>\n",
       "      <td>0.6418</td>\n",
       "      <td>0.4402</td>\n",
       "      <td>0.6396</td>\n",
       "      <td>0.4707</td>\n",
       "      <td>0.0852</td>\n",
       "      <td>0.4783</td>\n",
       "      <td>0.3550</td>\n",
       "      <td>0.9031</td>\n",
       "    </tr>\n",
       "  </tbody>\n",
       "</table>\n",
       "</div>"
      ],
      "text/plain": [
       "        a       b       c       d       e       f       g       h\n",
       "A  0.0592  0.7124  0.6701  0.6486  0.8972  0.9618  0.9974  0.5269\n",
       "B  0.2239  0.8407  0.4494  0.5474  0.2754  0.5828  0.8532  0.0483\n",
       "C  0.6418  0.4402  0.6396  0.4707  0.0852  0.4783  0.3550  0.9031"
      ]
     },
     "execution_count": 2,
     "metadata": {},
     "output_type": "execute_result"
    }
   ],
   "source": [
    "tbl = trena.createTaggedDataFrame(3,8)\n",
    "tbl"
   ]
  },
  {
   "cell_type": "code",
   "execution_count": 3,
   "metadata": {},
   "outputs": [
    {
     "data": {
      "text/plain": [
       "{'found': True, 'sum': 13.3084}"
      ]
     },
     "execution_count": 3,
     "metadata": {},
     "output_type": "execute_result"
    }
   ],
   "source": [
    "trena.findTaggedDataFrameOnServer(tbl)"
   ]
  },
  {
   "cell_type": "code",
   "execution_count": 4,
   "metadata": {},
   "outputs": [
    {
     "data": {
      "text/html": [
       "<div>\n",
       "<table border=\"1\" class=\"dataframe\">\n",
       "  <thead>\n",
       "    <tr style=\"text-align: right;\">\n",
       "      <th></th>\n",
       "      <th>a</th>\n",
       "      <th>b</th>\n",
       "      <th>c</th>\n",
       "      <th>d</th>\n",
       "      <th>e</th>\n",
       "      <th>f</th>\n",
       "      <th>g</th>\n",
       "      <th>h</th>\n",
       "      <th>i</th>\n",
       "      <th>j</th>\n",
       "      <th>...</th>\n",
       "      <th>u</th>\n",
       "      <th>v</th>\n",
       "      <th>w</th>\n",
       "      <th>x</th>\n",
       "      <th>y</th>\n",
       "      <th>z</th>\n",
       "      <th>None</th>\n",
       "      <th>None</th>\n",
       "      <th>None</th>\n",
       "      <th>None</th>\n",
       "    </tr>\n",
       "  </thead>\n",
       "  <tbody>\n",
       "    <tr>\n",
       "      <th>A</th>\n",
       "      <td>0.6291</td>\n",
       "      <td>0.1363</td>\n",
       "      <td>0.9087</td>\n",
       "      <td>0.2717</td>\n",
       "      <td>0.6291</td>\n",
       "      <td>0.1363</td>\n",
       "      <td>0.9087</td>\n",
       "      <td>0.2717</td>\n",
       "      <td>0.6291</td>\n",
       "      <td>0.1363</td>\n",
       "      <td>...</td>\n",
       "      <td>0.6291</td>\n",
       "      <td>0.1363</td>\n",
       "      <td>0.9087</td>\n",
       "      <td>0.2717</td>\n",
       "      <td>0.6291</td>\n",
       "      <td>0.1363</td>\n",
       "      <td>0.9087</td>\n",
       "      <td>0.2717</td>\n",
       "      <td>0.6291</td>\n",
       "      <td>0.1363</td>\n",
       "    </tr>\n",
       "    <tr>\n",
       "      <th>B</th>\n",
       "      <td>0.9714</td>\n",
       "      <td>0.7226</td>\n",
       "      <td>0.7887</td>\n",
       "      <td>0.2863</td>\n",
       "      <td>0.9714</td>\n",
       "      <td>0.7226</td>\n",
       "      <td>0.7887</td>\n",
       "      <td>0.2863</td>\n",
       "      <td>0.9714</td>\n",
       "      <td>0.7226</td>\n",
       "      <td>...</td>\n",
       "      <td>0.9714</td>\n",
       "      <td>0.7226</td>\n",
       "      <td>0.7887</td>\n",
       "      <td>0.2863</td>\n",
       "      <td>0.9714</td>\n",
       "      <td>0.7226</td>\n",
       "      <td>0.7887</td>\n",
       "      <td>0.2863</td>\n",
       "      <td>0.9714</td>\n",
       "      <td>0.7226</td>\n",
       "    </tr>\n",
       "    <tr>\n",
       "      <th>C</th>\n",
       "      <td>0.4307</td>\n",
       "      <td>0.5966</td>\n",
       "      <td>0.7191</td>\n",
       "      <td>0.2236</td>\n",
       "      <td>0.4307</td>\n",
       "      <td>0.5966</td>\n",
       "      <td>0.7191</td>\n",
       "      <td>0.2236</td>\n",
       "      <td>0.4307</td>\n",
       "      <td>0.5966</td>\n",
       "      <td>...</td>\n",
       "      <td>0.4307</td>\n",
       "      <td>0.5966</td>\n",
       "      <td>0.7191</td>\n",
       "      <td>0.2236</td>\n",
       "      <td>0.4307</td>\n",
       "      <td>0.5966</td>\n",
       "      <td>0.7191</td>\n",
       "      <td>0.2236</td>\n",
       "      <td>0.4307</td>\n",
       "      <td>0.5966</td>\n",
       "    </tr>\n",
       "    <tr>\n",
       "      <th>D</th>\n",
       "      <td>0.7496</td>\n",
       "      <td>0.5034</td>\n",
       "      <td>0.2578</td>\n",
       "      <td>0.6433</td>\n",
       "      <td>0.7496</td>\n",
       "      <td>0.5034</td>\n",
       "      <td>0.2578</td>\n",
       "      <td>0.6433</td>\n",
       "      <td>0.7496</td>\n",
       "      <td>0.5034</td>\n",
       "      <td>...</td>\n",
       "      <td>0.7496</td>\n",
       "      <td>0.5034</td>\n",
       "      <td>0.2578</td>\n",
       "      <td>0.6433</td>\n",
       "      <td>0.7496</td>\n",
       "      <td>0.5034</td>\n",
       "      <td>0.2578</td>\n",
       "      <td>0.6433</td>\n",
       "      <td>0.7496</td>\n",
       "      <td>0.5034</td>\n",
       "    </tr>\n",
       "    <tr>\n",
       "      <th>E</th>\n",
       "      <td>0.3195</td>\n",
       "      <td>0.5025</td>\n",
       "      <td>0.0285</td>\n",
       "      <td>0.9473</td>\n",
       "      <td>0.3195</td>\n",
       "      <td>0.5025</td>\n",
       "      <td>0.0285</td>\n",
       "      <td>0.9473</td>\n",
       "      <td>0.3195</td>\n",
       "      <td>0.5025</td>\n",
       "      <td>...</td>\n",
       "      <td>0.3195</td>\n",
       "      <td>0.5025</td>\n",
       "      <td>0.0285</td>\n",
       "      <td>0.9473</td>\n",
       "      <td>0.3195</td>\n",
       "      <td>0.5025</td>\n",
       "      <td>0.0285</td>\n",
       "      <td>0.9473</td>\n",
       "      <td>0.3195</td>\n",
       "      <td>0.5025</td>\n",
       "    </tr>\n",
       "    <tr>\n",
       "      <th>F</th>\n",
       "      <td>0.6578</td>\n",
       "      <td>0.0680</td>\n",
       "      <td>0.4302</td>\n",
       "      <td>0.2450</td>\n",
       "      <td>0.6578</td>\n",
       "      <td>0.0680</td>\n",
       "      <td>0.4302</td>\n",
       "      <td>0.2450</td>\n",
       "      <td>0.6578</td>\n",
       "      <td>0.0680</td>\n",
       "      <td>...</td>\n",
       "      <td>0.6578</td>\n",
       "      <td>0.0680</td>\n",
       "      <td>0.4302</td>\n",
       "      <td>0.2450</td>\n",
       "      <td>0.6578</td>\n",
       "      <td>0.0680</td>\n",
       "      <td>0.4302</td>\n",
       "      <td>0.2450</td>\n",
       "      <td>0.6578</td>\n",
       "      <td>0.0680</td>\n",
       "    </tr>\n",
       "    <tr>\n",
       "      <th>G</th>\n",
       "      <td>0.1732</td>\n",
       "      <td>0.4564</td>\n",
       "      <td>0.4808</td>\n",
       "      <td>0.2633</td>\n",
       "      <td>0.1732</td>\n",
       "      <td>0.4564</td>\n",
       "      <td>0.4808</td>\n",
       "      <td>0.2633</td>\n",
       "      <td>0.1732</td>\n",
       "      <td>0.4564</td>\n",
       "      <td>...</td>\n",
       "      <td>0.1732</td>\n",
       "      <td>0.4564</td>\n",
       "      <td>0.4808</td>\n",
       "      <td>0.2633</td>\n",
       "      <td>0.1732</td>\n",
       "      <td>0.4564</td>\n",
       "      <td>0.4808</td>\n",
       "      <td>0.2633</td>\n",
       "      <td>0.1732</td>\n",
       "      <td>0.4564</td>\n",
       "    </tr>\n",
       "    <tr>\n",
       "      <th>H</th>\n",
       "      <td>0.4940</td>\n",
       "      <td>0.6175</td>\n",
       "      <td>0.7921</td>\n",
       "      <td>0.2389</td>\n",
       "      <td>0.4940</td>\n",
       "      <td>0.6175</td>\n",
       "      <td>0.7921</td>\n",
       "      <td>0.2389</td>\n",
       "      <td>0.4940</td>\n",
       "      <td>0.6175</td>\n",
       "      <td>...</td>\n",
       "      <td>0.4940</td>\n",
       "      <td>0.6175</td>\n",
       "      <td>0.7921</td>\n",
       "      <td>0.2389</td>\n",
       "      <td>0.4940</td>\n",
       "      <td>0.6175</td>\n",
       "      <td>0.7921</td>\n",
       "      <td>0.2389</td>\n",
       "      <td>0.4940</td>\n",
       "      <td>0.6175</td>\n",
       "    </tr>\n",
       "  </tbody>\n",
       "</table>\n",
       "<p>8 rows × 30 columns</p>\n",
       "</div>"
      ],
      "text/plain": [
       "        a       b       c       d       e       f       g       h       i  \\\n",
       "A  0.6291  0.1363  0.9087  0.2717  0.6291  0.1363  0.9087  0.2717  0.6291   \n",
       "B  0.9714  0.7226  0.7887  0.2863  0.9714  0.7226  0.7887  0.2863  0.9714   \n",
       "C  0.4307  0.5966  0.7191  0.2236  0.4307  0.5966  0.7191  0.2236  0.4307   \n",
       "D  0.7496  0.5034  0.2578  0.6433  0.7496  0.5034  0.2578  0.6433  0.7496   \n",
       "E  0.3195  0.5025  0.0285  0.9473  0.3195  0.5025  0.0285  0.9473  0.3195   \n",
       "F  0.6578  0.0680  0.4302  0.2450  0.6578  0.0680  0.4302  0.2450  0.6578   \n",
       "G  0.1732  0.4564  0.4808  0.2633  0.1732  0.4564  0.4808  0.2633  0.1732   \n",
       "H  0.4940  0.6175  0.7921  0.2389  0.4940  0.6175  0.7921  0.2389  0.4940   \n",
       "\n",
       "        j   ...         u       v       w       x       y       z     NaN  \\\n",
       "A  0.1363   ...    0.6291  0.1363  0.9087  0.2717  0.6291  0.1363  0.9087   \n",
       "B  0.7226   ...    0.9714  0.7226  0.7887  0.2863  0.9714  0.7226  0.7887   \n",
       "C  0.5966   ...    0.4307  0.5966  0.7191  0.2236  0.4307  0.5966  0.7191   \n",
       "D  0.5034   ...    0.7496  0.5034  0.2578  0.6433  0.7496  0.5034  0.2578   \n",
       "E  0.5025   ...    0.3195  0.5025  0.0285  0.9473  0.3195  0.5025  0.0285   \n",
       "F  0.0680   ...    0.6578  0.0680  0.4302  0.2450  0.6578  0.0680  0.4302   \n",
       "G  0.4564   ...    0.1732  0.4564  0.4808  0.2633  0.1732  0.4564  0.4808   \n",
       "H  0.6175   ...    0.4940  0.6175  0.7921  0.2389  0.4940  0.6175  0.7921   \n",
       "\n",
       "      NaN     NaN     NaN  \n",
       "A  0.2717  0.6291  0.1363  \n",
       "B  0.2863  0.9714  0.7226  \n",
       "C  0.2236  0.4307  0.5966  \n",
       "D  0.6433  0.7496  0.5034  \n",
       "E  0.9473  0.3195  0.5025  \n",
       "F  0.2450  0.6578  0.0680  \n",
       "G  0.2633  0.1732  0.4564  \n",
       "H  0.2389  0.4940  0.6175  \n",
       "\n",
       "[8 rows x 30 columns]"
      ]
     },
     "execution_count": 4,
     "metadata": {},
     "output_type": "execute_result"
    }
   ],
   "source": [
    "tbl2 = trena.createTaggedDataFrame(8,30)\n",
    "tbl2"
   ]
  },
  {
   "cell_type": "code",
   "execution_count": 5,
   "metadata": {},
   "outputs": [
    {
     "data": {
      "text/plain": [
       "{'found': True, 'sum': 116.9079}"
      ]
     },
     "execution_count": 5,
     "metadata": {},
     "output_type": "execute_result"
    }
   ],
   "source": [
    "trena.findTaggedDataFrameOnServer(tbl2)"
   ]
  },
  {
   "cell_type": "code",
   "execution_count": 6,
   "metadata": {},
   "outputs": [],
   "source": [
    "loc_4182bp = 'chr17:50,201,013-50,205,194'\n",
    "trena.showGenomicRegion(loc_4182bp)"
   ]
  },
  {
   "cell_type": "code",
   "execution_count": 7,
   "metadata": {},
   "outputs": [],
   "source": [
    "#trena.tv.getBrowserState()\n",
    "assert(trena.getGenomicRegion() == loc_4182bp)"
   ]
  },
  {
   "cell_type": "code",
   "execution_count": 9,
   "metadata": {},
   "outputs": [],
   "source": [
    "import pandas as pd\n",
    "base = 50201563   # near tss of col1a1\n",
    "tbl = pd.DataFrame([[\"chr17\", base+10,  base+100,  \"fp1\", 9.9],\n",
    "                    [\"chr17\", base+90,  base+130,  \"fp2\", 0.5],\n",
    "                    [\"chr17\", base+45,  base+80,   \"fp3\", 0.9],\n",
    "                    [\"chr17\", base+112, base+140,  \"fp4\", 32],\n",
    "                   ])"
   ]
  },
  {
   "cell_type": "code",
   "execution_count": 10,
   "metadata": {},
   "outputs": [],
   "source": [
    "trena.addBedTrackFromDataFrame(tbl, \"testTrack\", \"EXPANDED\", \"green\", 200)"
   ]
  },
  {
   "cell_type": "code",
   "execution_count": 11,
   "metadata": {},
   "outputs": [],
   "source": [
    "expected = ['gtexFibroblast', 'gtexPrimary', 'protectedAndExposed']\n",
    "assert(sorted(trena.getExpressionMatrixNames()) ==  sorted(expected))"
   ]
  },
  {
   "cell_type": "code",
   "execution_count": 12,
   "metadata": {},
   "outputs": [],
   "source": [
    "tbl_mtxSummary = trena.summarizeExpressionMatrices()\n",
    "assert(tbl_mtxSummary.shape == (3,7))\n",
    "expected = ['gtexFibroblast', 'gtexPrimary', 'protectedAndExposed']\n",
    "assert(sorted(tbl_mtxSummary.axes[0].tolist()) == expected)\n",
    "expected = ['nrow', 'ncol', 'min', 'q1', 'median', 'q3', 'max']\n",
    "assert(tbl_mtxSummary.axes[1].tolist() == expected)\n",
    "assert(tbl_mtxSummary['max']['protectedAndExposed'] == 11.1892)"
   ]
  },
  {
   "cell_type": "code",
   "execution_count": 8,
   "metadata": {},
   "outputs": [],
   "source": [
    "tbl_fp = trena.getFootprintsInRegion(display=False)"
   ]
  },
  {
   "cell_type": "code",
   "execution_count": 10,
   "metadata": {},
   "outputs": [
    {
     "data": {
      "text/plain": [
       "'151198664594506'"
      ]
     },
     "execution_count": 10,
     "metadata": {},
     "output_type": "execute_result"
    }
   ],
   "source": [
    "tbl_fp.key"
   ]
  },
  {
   "cell_type": "code",
   "execution_count": 9,
   "metadata": {},
   "outputs": [],
   "source": [
    "assert(tbl_fp.shape[1] == 10) # 10 columns\n",
    "assert(tbl_fp.shape[0] > 900) # actually 979 on (27 nov 2017), with all four skin footprint databases\n",
    "expectedColnames = ['chrom', 'motifStart', 'motifEnd', 'motifName', 'strand', 'score', 'length', 'distance.from.tss', 'id', 'db']\n",
    "assert(tbl_fp.axes[1].tolist() == expectedColnames)"
   ]
  },
  {
   "cell_type": "code",
   "execution_count": 11,
   "metadata": {},
   "outputs": [],
   "source": [
    "tbl_model = trena.createGeneModel('COL1A1', 'protectedAndExposed')"
   ]
  },
  {
   "cell_type": "code",
   "execution_count": null,
   "metadata": {},
   "outputs": [],
   "source": [
    "print(tbl_model.shape)\n",
    "pri"
   ]
  },
  {
   "cell_type": "code",
   "execution_count": 16,
   "metadata": {},
   "outputs": [],
   "source": [
    "assert(tbl_model.shape[1] == 10)   # ten columns\n",
    "assert(tbl_model.shape[0] > 8)     # 10 rows at present (27 nov 2017)\n",
    "expectedColnames = ['gene', 'betaLasso',  'lassoPValue', 'pearsonCoeff', 'rfScore', 'betaRidge', 'spearmanCoeff', \n",
    "                    'concordance', 'pcaMax', 'bindingSites']\n",
    "assert(tbl_model.axes[1].tolist() == expectedColnames)"
   ]
  },
  {
   "cell_type": "code",
   "execution_count": 17,
   "metadata": {},
   "outputs": [],
   "source": [
    "assert(tbl_model[\"gene\"][0:3].tolist() == ['CREB3L1', 'PRRX1', 'BHLHE22'])"
   ]
  },
  {
   "cell_type": "code",
   "execution_count": 18,
   "metadata": {},
   "outputs": [],
   "source": [
    "assert(tbl_model[\"rfScore\"][0] > 250)\n",
    "assert(tbl_model[\"rfScore\"][1] > 50)\n",
    "assert(tbl_model[\"rfScore\"][2] > 30)"
   ]
  },
  {
   "cell_type": "code",
   "execution_count": 19,
   "metadata": {},
   "outputs": [
    {
     "data": {
      "text/html": [
       "<div>\n",
       "<table border=\"1\" class=\"dataframe\">\n",
       "  <thead>\n",
       "    <tr style=\"text-align: right;\">\n",
       "      <th></th>\n",
       "      <th>gene</th>\n",
       "      <th>betaLasso</th>\n",
       "      <th>lassoPValue</th>\n",
       "      <th>pearsonCoeff</th>\n",
       "      <th>rfScore</th>\n",
       "      <th>betaRidge</th>\n",
       "      <th>spearmanCoeff</th>\n",
       "      <th>concordance</th>\n",
       "      <th>pcaMax</th>\n",
       "      <th>bindingSites</th>\n",
       "    </tr>\n",
       "  </thead>\n",
       "  <tbody>\n",
       "    <tr>\n",
       "      <th>3</th>\n",
       "      <td>CREB3L1</td>\n",
       "      <td>1.0793</td>\n",
       "      <td>1.082700e-92</td>\n",
       "      <td>0.8289</td>\n",
       "      <td>328.7954</td>\n",
       "      <td>0.3770</td>\n",
       "      <td>0.8130</td>\n",
       "      <td>0.4983</td>\n",
       "      <td>3.4845</td>\n",
       "      <td>11</td>\n",
       "    </tr>\n",
       "    <tr>\n",
       "      <th>6</th>\n",
       "      <td>PRRX1</td>\n",
       "      <td>0.0490</td>\n",
       "      <td>1.053900e-07</td>\n",
       "      <td>0.6031</td>\n",
       "      <td>72.0756</td>\n",
       "      <td>0.1447</td>\n",
       "      <td>0.5901</td>\n",
       "      <td>0.4120</td>\n",
       "      <td>0.8663</td>\n",
       "      <td>2</td>\n",
       "    </tr>\n",
       "    <tr>\n",
       "      <th>2</th>\n",
       "      <td>BHLHE22</td>\n",
       "      <td>0.0860</td>\n",
       "      <td>2.822400e-10</td>\n",
       "      <td>0.5008</td>\n",
       "      <td>51.6656</td>\n",
       "      <td>0.2812</td>\n",
       "      <td>0.5461</td>\n",
       "      <td>0.3970</td>\n",
       "      <td>0.9342</td>\n",
       "      <td>3</td>\n",
       "    </tr>\n",
       "    <tr>\n",
       "      <th>4</th>\n",
       "      <td>JDP2</td>\n",
       "      <td>0.0000</td>\n",
       "      <td>3.847000e-01</td>\n",
       "      <td>0.4242</td>\n",
       "      <td>22.7837</td>\n",
       "      <td>0.1843</td>\n",
       "      <td>0.4224</td>\n",
       "      <td>0.3157</td>\n",
       "      <td>0.6203</td>\n",
       "      <td>6</td>\n",
       "    </tr>\n",
       "    <tr>\n",
       "      <th>9</th>\n",
       "      <td>SPI1</td>\n",
       "      <td>0.1557</td>\n",
       "      <td>9.463800e-13</td>\n",
       "      <td>0.4382</td>\n",
       "      <td>21.1031</td>\n",
       "      <td>0.2237</td>\n",
       "      <td>0.4253</td>\n",
       "      <td>0.3507</td>\n",
       "      <td>0.7754</td>\n",
       "      <td>2</td>\n",
       "    </tr>\n",
       "    <tr>\n",
       "      <th>1</th>\n",
       "      <td>BCL6B</td>\n",
       "      <td>0.0021</td>\n",
       "      <td>0.000000e+00</td>\n",
       "      <td>0.4620</td>\n",
       "      <td>14.7593</td>\n",
       "      <td>0.1455</td>\n",
       "      <td>0.4455</td>\n",
       "      <td>0.3184</td>\n",
       "      <td>0.6039</td>\n",
       "      <td>1</td>\n",
       "    </tr>\n",
       "    <tr>\n",
       "      <th>5</th>\n",
       "      <td>MAFF</td>\n",
       "      <td>-0.2059</td>\n",
       "      <td>7.473600e-17</td>\n",
       "      <td>-0.2676</td>\n",
       "      <td>14.2695</td>\n",
       "      <td>-0.1598</td>\n",
       "      <td>-0.2792</td>\n",
       "      <td>0.4311</td>\n",
       "      <td>0.8744</td>\n",
       "      <td>2</td>\n",
       "    </tr>\n",
       "    <tr>\n",
       "      <th>7</th>\n",
       "      <td>RFX5</td>\n",
       "      <td>0.0548</td>\n",
       "      <td>2.058700e-16</td>\n",
       "      <td>0.4312</td>\n",
       "      <td>12.8289</td>\n",
       "      <td>0.0997</td>\n",
       "      <td>0.4349</td>\n",
       "      <td>0.3217</td>\n",
       "      <td>0.5984</td>\n",
       "      <td>4</td>\n",
       "    </tr>\n",
       "    <tr>\n",
       "      <th>8</th>\n",
       "      <td>SP4</td>\n",
       "      <td>0.0000</td>\n",
       "      <td>9.200000e-03</td>\n",
       "      <td>-0.1943</td>\n",
       "      <td>5.5528</td>\n",
       "      <td>-0.2881</td>\n",
       "      <td>-0.1845</td>\n",
       "      <td>0.3938</td>\n",
       "      <td>0.8580</td>\n",
       "      <td>11</td>\n",
       "    </tr>\n",
       "    <tr>\n",
       "      <th>10</th>\n",
       "      <td>TFAP4</td>\n",
       "      <td>-0.0484</td>\n",
       "      <td>2.561900e-06</td>\n",
       "      <td>-0.2868</td>\n",
       "      <td>5.3969</td>\n",
       "      <td>-0.2625</td>\n",
       "      <td>-0.2887</td>\n",
       "      <td>0.3898</td>\n",
       "      <td>0.8959</td>\n",
       "      <td>6</td>\n",
       "    </tr>\n",
       "  </tbody>\n",
       "</table>\n",
       "</div>"
      ],
      "text/plain": [
       "       gene  betaLasso   lassoPValue  pearsonCoeff   rfScore  betaRidge  \\\n",
       "3   CREB3L1     1.0793  1.082700e-92        0.8289  328.7954     0.3770   \n",
       "6     PRRX1     0.0490  1.053900e-07        0.6031   72.0756     0.1447   \n",
       "2   BHLHE22     0.0860  2.822400e-10        0.5008   51.6656     0.2812   \n",
       "4      JDP2     0.0000  3.847000e-01        0.4242   22.7837     0.1843   \n",
       "9      SPI1     0.1557  9.463800e-13        0.4382   21.1031     0.2237   \n",
       "1     BCL6B     0.0021  0.000000e+00        0.4620   14.7593     0.1455   \n",
       "5      MAFF    -0.2059  7.473600e-17       -0.2676   14.2695    -0.1598   \n",
       "7      RFX5     0.0548  2.058700e-16        0.4312   12.8289     0.0997   \n",
       "8       SP4     0.0000  9.200000e-03       -0.1943    5.5528    -0.2881   \n",
       "10    TFAP4    -0.0484  2.561900e-06       -0.2868    5.3969    -0.2625   \n",
       "\n",
       "    spearmanCoeff  concordance  pcaMax  bindingSites  \n",
       "3          0.8130       0.4983  3.4845            11  \n",
       "6          0.5901       0.4120  0.8663             2  \n",
       "2          0.5461       0.3970  0.9342             3  \n",
       "4          0.4224       0.3157  0.6203             6  \n",
       "9          0.4253       0.3507  0.7754             2  \n",
       "1          0.4455       0.3184  0.6039             1  \n",
       "5         -0.2792       0.4311  0.8744             2  \n",
       "7          0.4349       0.3217  0.5984             4  \n",
       "8         -0.1845       0.3938  0.8580            11  \n",
       "10        -0.2887       0.3898  0.8959             6  "
      ]
     },
     "execution_count": 19,
     "metadata": {},
     "output_type": "execute_result"
    }
   ],
   "source": [
    "tbl_model"
   ]
  },
  {
   "cell_type": "code",
   "execution_count": 20,
   "metadata": {},
   "outputs": [],
   "source": [
    "multiModelGraphFile = \"hostDir/tCellExhaustion.6model.graph.json\"\n",
    "modelNames = [\"allMousePFMs97\", \"allMousePFMs90\", \"JMousePFMs90\", \"allMousePFMs-90-early\", \"allMousePFMs-90-late\",\"allDNAmousePFMs90\"]\n",
    "trena.displayGraphFromFile(multiModelGraphFile, modelNames)\n",
    "trena.setStyle(\"hostDir/trenaVizStyle.js\")"
   ]
  },
  {
   "cell_type": "code",
   "execution_count": 23,
   "metadata": {},
   "outputs": [
    {
     "ename": "NameError",
     "evalue": "name 'self' is not defined",
     "output_type": "error",
     "traceback": [
      "\u001b[0;31m---------------------------------------------------------------------------\u001b[0m",
      "\u001b[0;31mNameError\u001b[0m                                 Traceback (most recent call last)",
      "\u001b[0;32m<ipython-input-23-64db1345e4ed>\u001b[0m in \u001b[0;36m<module>\u001b[0;34m()\u001b[0m\n\u001b[1;32m      1\u001b[0m \u001b[0mtargetGene\u001b[0m \u001b[0;34m=\u001b[0m \u001b[0;34m\"TCF7\"\u001b[0m\u001b[0;34m\u001b[0m\u001b[0m\n\u001b[1;32m      2\u001b[0m \u001b[0mmodel\u001b[0m \u001b[0;34m=\u001b[0m \u001b[0;34m{\u001b[0m\u001b[0;34m\"tcf7\"\u001b[0m\u001b[0;34m:\u001b[0m \u001b[0;34m{\u001b[0m\u001b[0;34m\"model\"\u001b[0m\u001b[0;34m:\u001b[0m \u001b[0mtbl_model\u001b[0m\u001b[0;34m,\u001b[0m \u001b[0;34m\"regions\"\u001b[0m\u001b[0;34m:\u001b[0m \u001b[0mtbl_fp\u001b[0m\u001b[0;34m}\u001b[0m\u001b[0;34m}\u001b[0m\u001b[0;34m\u001b[0m\u001b[0m\n\u001b[0;32m----> 3\u001b[0;31m \u001b[0mtrena\u001b[0m\u001b[0;34m.\u001b[0m\u001b[0mbuildMultiModelGraph\u001b[0m\u001b[0;34m(\u001b[0m\u001b[0mtargetGene\u001b[0m\u001b[0;34m,\u001b[0m \u001b[0mmodel\u001b[0m\u001b[0;34m)\u001b[0m\u001b[0;34m\u001b[0m\u001b[0m\n\u001b[0m",
      "\u001b[0;32m~/trenaViz/hub/Trena.py\u001b[0m in \u001b[0;36mbuildMultiModelGraph\u001b[0;34m(trena, targetGene, models)\u001b[0m\n\u001b[1;32m     75\u001b[0m         \u001b[0mpayload\u001b[0m \u001b[0;34m=\u001b[0m \u001b[0;34m{\u001b[0m\u001b[0;34m\"targetGene\"\u001b[0m\u001b[0;34m:\u001b[0m \u001b[0mtargetGene\u001b[0m\u001b[0;34m,\u001b[0m \u001b[0;34m\"models\"\u001b[0m\u001b[0;34m:\u001b[0m \u001b[0mmodels\u001b[0m\u001b[0;34m}\u001b[0m\u001b[0;34m;\u001b[0m\u001b[0;34m\u001b[0m\u001b[0m\n\u001b[1;32m     76\u001b[0m         \u001b[0mmsg\u001b[0m \u001b[0;34m=\u001b[0m \u001b[0;34m{\u001b[0m\u001b[0;34m'cmd'\u001b[0m\u001b[0;34m:\u001b[0m \u001b[0;34m'buildMultiModelGraph'\u001b[0m\u001b[0;34m,\u001b[0m \u001b[0;34m'status'\u001b[0m\u001b[0;34m:\u001b[0m \u001b[0;34m'request'\u001b[0m\u001b[0;34m,\u001b[0m \u001b[0;34m'callback'\u001b[0m\u001b[0;34m:\u001b[0m \u001b[0;34m''\u001b[0m\u001b[0;34m,\u001b[0m \u001b[0;34m'payload'\u001b[0m\u001b[0;34m:\u001b[0m \u001b[0mpayload\u001b[0m\u001b[0;34m}\u001b[0m\u001b[0;34m\u001b[0m\u001b[0m\n\u001b[0;32m---> 77\u001b[0;31m         \u001b[0mself\u001b[0m\u001b[0;34m.\u001b[0m\u001b[0mtrenaServer\u001b[0m\u001b[0;34m.\u001b[0m\u001b[0msend_string\u001b[0m\u001b[0;34m(\u001b[0m\u001b[0mjson\u001b[0m\u001b[0;34m.\u001b[0m\u001b[0mdumps\u001b[0m\u001b[0;34m(\u001b[0m\u001b[0mmsg\u001b[0m\u001b[0;34m)\u001b[0m\u001b[0;34m)\u001b[0m\u001b[0;34m\u001b[0m\u001b[0m\n\u001b[0m\u001b[1;32m     78\u001b[0m         \u001b[0mresponse\u001b[0m \u001b[0;34m=\u001b[0m \u001b[0mjson\u001b[0m\u001b[0;34m.\u001b[0m\u001b[0mloads\u001b[0m\u001b[0;34m(\u001b[0m\u001b[0mself\u001b[0m\u001b[0;34m.\u001b[0m\u001b[0mtrenaServer\u001b[0m\u001b[0;34m.\u001b[0m\u001b[0mrecv_string\u001b[0m\u001b[0;34m(\u001b[0m\u001b[0;34m)\u001b[0m\u001b[0;34m)\u001b[0m\u001b[0;34m\u001b[0m\u001b[0m\n\u001b[1;32m     79\u001b[0m         \u001b[0mpayload\u001b[0m \u001b[0;34m=\u001b[0m \u001b[0mresponse\u001b[0m\u001b[0;34m[\u001b[0m\u001b[0;34m\"payload\"\u001b[0m\u001b[0;34m]\u001b[0m\u001b[0;34m\u001b[0m\u001b[0m\n",
      "\u001b[0;31mNameError\u001b[0m: name 'self' is not defined"
     ]
    }
   ],
   "source": [
    "targetGene = \"TCF7\"\n",
    "model = {\"tcf7\": {\"model\": tbl_model, \"regions\": tbl_fp}}\n",
    "trena.buildMultiModelGraph(targetGene, model)"
   ]
  },
  {
   "cell_type": "code",
   "execution_count": null,
   "metadata": {},
   "outputs": [],
   "source": []
  }
 ],
 "metadata": {
  "kernelspec": {
   "display_name": "Python 3",
   "language": "python",
   "name": "python3"
  },
  "language_info": {
   "codemirror_mode": {
    "name": "ipython",
    "version": 3
   },
   "file_extension": ".py",
   "mimetype": "text/x-python",
   "name": "python",
   "nbconvert_exporter": "python",
   "pygments_lexer": "ipython3",
   "version": "3.6.3"
  }
 },
 "nbformat": 4,
 "nbformat_minor": 2
}
